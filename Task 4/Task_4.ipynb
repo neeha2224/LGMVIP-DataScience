{
 "cells": [
  {
   "cell_type": "markdown",
   "metadata": {},
   "source": [
    "### Name : Neeharika Ramanujula"
   ]
  },
  {
   "cell_type": "markdown",
   "metadata": {},
   "source": [
    "# LGM VIP Task 4 : Next Word Prediction\n",
    "\n",
    "\n",
    "## Aim : Using Tensorflow and Keras library train a RNN, to predict the next word."
   ]
  },
  {
   "cell_type": "markdown",
   "metadata": {},
   "source": [
    "### Importing Modules\n",
    "import all the necessary libraries"
   ]
  },
  {
   "cell_type": "code",
   "execution_count": 1,
   "metadata": {},
   "outputs": [],
   "source": [
    "import numpy as np\n",
    "from numpy import array\n",
    "import tensorflow as tf\n",
    "from nltk.tokenize import RegexpTokenizer\n",
    "from keras.preprocessing.text import Tokenizer\n",
    "from keras.utils import to_categorical\n",
    "from keras.models import Sequential, load_model\n",
    "from keras.layers import LSTM\n",
    "from keras.layers import Embedding\n",
    "from keras.layers.core import Dense, Activation\n",
    "from keras.optimizers import RMSprop\n",
    "import matplotlib.pyplot as plt\n",
    "import pickle\n",
    "import heapq"
   ]
  },
  {
   "cell_type": "markdown",
   "metadata": {},
   "source": [
    "loading the data"
   ]
  },
  {
   "cell_type": "code",
   "execution_count": 2,
   "metadata": {},
   "outputs": [
    {
     "name": "stdout",
     "output_type": "stream",
     "text": [
      "corpus length: 581888\n"
     ]
    }
   ],
   "source": [
    "text = open(r'C:/Users/lenovo/Documents/ds_intern/Task_4/1661-0.txt', encoding=\"utf8\").read().lower()\n",
    "print('corpus length:', len(text))"
   ]
  },
  {
   "cell_type": "markdown",
   "metadata": {},
   "source": [
    "replacing the \\n and \\r with spaces in the given text"
   ]
  },
  {
   "cell_type": "code",
   "execution_count": 3,
   "metadata": {},
   "outputs": [
    {
     "data": {
      "text/plain": [
       "\" Project Gutenberg's The Adventures of Sherlock Holmes, by Arthur Conan Doyle  This eBook is for the use of anyone anywhere at no cost and with almost no restrictions whatsoever.  You may copy it, give it away or re-use it under the terms of the Project Gutenberg License included with this eBook or \""
      ]
     },
     "execution_count": 3,
     "metadata": {},
     "output_type": "execute_result"
    }
   ],
   "source": [
    "text = open(r'C:/Users/lenovo/Documents/ds_intern/Task_4/1661-0.txt', encoding=\"utf8\")\n",
    "lines = []\n",
    "for i in text:\n",
    "    lines.append(i)\n",
    "    \n",
    "ds = \"\"\n",
    "for i in lines:\n",
    "    ds =' '.join(lines)\n",
    "    \n",
    "ds = ds.replace('\\n', '').replace('\\r', '').replace('\\ufeff','')\n",
    "ds[:300]\n"
   ]
  },
  {
   "cell_type": "code",
   "execution_count": 4,
   "metadata": {},
   "outputs": [
    {
     "data": {
      "text/plain": [
       "' Project Gutenberg s The Adventures of Sherlock Holmes  by Arthur Conan Doyle  This eBook is for the use of anyone anywhere at no cost and with almost no restrictions whatsoever   You may copy it  give it away or re use it under the terms of the Project Gutenberg License included with this eBook or '"
      ]
     },
     "execution_count": 4,
     "metadata": {},
     "output_type": "execute_result"
    }
   ],
   "source": [
    "#removing the punctuation marks to get more clear results\n",
    "import string\n",
    "translator = str.maketrans(string.punctuation, ' '*len(string.punctuation))\n",
    "data=ds.translate(translator)\n",
    "data[:300]"
   ]
  },
  {
   "cell_type": "code",
   "execution_count": 5,
   "metadata": {},
   "outputs": [
    {
     "data": {
      "text/plain": [
       "[145, 130, 428, 1, 1020, 4, 128, 34, 45, 611]"
      ]
     },
     "execution_count": 5,
     "metadata": {},
     "output_type": "execute_result"
    }
   ],
   "source": [
    "tokenizer = Tokenizer()\n",
    "tokenizer.fit_on_texts([data])\n",
    "encoded_data= tokenizer.texts_to_sequences([data])[0]\n",
    "encoded_data[:10]"
   ]
  },
  {
   "cell_type": "code",
   "execution_count": 6,
   "metadata": {},
   "outputs": [
    {
     "name": "stdout",
     "output_type": "stream",
     "text": [
      "Vocabulary size:8925\n"
     ]
    }
   ],
   "source": [
    "#determine vocabulary size\n",
    "vocab_size = len(tokenizer.word_index) + 1 # so that the counting starts from 1\n",
    "print('Vocabulary size:%d'%vocab_size)"
   ]
  },
  {
   "cell_type": "code",
   "execution_count": 7,
   "metadata": {},
   "outputs": [
    {
     "name": "stdout",
     "output_type": "stream",
     "text": [
      "total sequence:111258\n"
     ]
    }
   ],
   "source": [
    "#create a sequence of words to fit the model with one word as input and other as output\n",
    "sequences = list()\n",
    "for i in range(1, len(encoded_data)):\n",
    "    sequence = encoded_data[i-1:i+1]\n",
    "    sequences.append(sequence)\n",
    "print('total sequence:%d'%len(sequences)) # we have 111251 ip/op pair to train the network"
   ]
  },
  {
   "cell_type": "code",
   "execution_count": 8,
   "metadata": {},
   "outputs": [],
   "source": [
    "#divide the sequence into x as input and y as output\n",
    "sequences = array(sequences)\n",
    "x, y = sequences[:,0],sequences[:,1]"
   ]
  },
  {
   "cell_type": "code",
   "execution_count": 9,
   "metadata": {},
   "outputs": [
    {
     "data": {
      "text/plain": [
       "array([[0., 0., 0., ..., 0., 0., 0.],\n",
       "       [0., 0., 0., ..., 0., 0., 0.],\n",
       "       [0., 1., 0., ..., 0., 0., 0.],\n",
       "       [0., 0., 0., ..., 0., 0., 0.],\n",
       "       [0., 0., 0., ..., 0., 0., 0.]], dtype=float32)"
      ]
     },
     "execution_count": 9,
     "metadata": {},
     "output_type": "execute_result"
    }
   ],
   "source": [
    "y  = to_categorical(y, num_classes=vocab_size)\n",
    "y[:5]"
   ]
  },
  {
   "cell_type": "code",
   "execution_count": 10,
   "metadata": {},
   "outputs": [
    {
     "name": "stdout",
     "output_type": "stream",
     "text": [
      "Model: \"sequential\"\n",
      "_________________________________________________________________\n",
      "Layer (type)                 Output Shape              Param #   \n",
      "=================================================================\n",
      "embedding (Embedding)        (None, 1, 10)             89250     \n",
      "_________________________________________________________________\n",
      "lstm (LSTM)                  (None, 1, 1000)           4044000   \n",
      "_________________________________________________________________\n",
      "lstm_1 (LSTM)                (None, 1000)              8004000   \n",
      "_________________________________________________________________\n",
      "dense (Dense)                (None, 1000)              1001000   \n",
      "_________________________________________________________________\n",
      "dense_1 (Dense)              (None, 8925)              8933925   \n",
      "=================================================================\n",
      "Total params: 22,072,175\n",
      "Trainable params: 22,072,175\n",
      "Non-trainable params: 0\n",
      "_________________________________________________________________\n",
      "None\n"
     ]
    }
   ],
   "source": [
    "#create the model and add layers to the neural network\n",
    "model = Sequential()\n",
    "model.add(Embedding(vocab_size, 10, input_length=1))\n",
    "model.add(LSTM(1000, return_sequences=True))\n",
    "model.add(LSTM(1000))\n",
    "model.add(Dense(1000, activation=\"relu\"))\n",
    "model.add(Dense(vocab_size, activation='softmax'))\n",
    "print(model.summary())"
   ]
  },
  {
   "cell_type": "markdown",
   "metadata": {},
   "source": [
    "### Training of model"
   ]
  },
  {
   "cell_type": "code",
   "execution_count": 11,
   "metadata": {},
   "outputs": [],
   "source": [
    "model.compile(loss='categorical_crossentropy', optimizer='adam',metrics=['accuracy'])"
   ]
  },
  {
   "cell_type": "code",
   "execution_count": 13,
   "metadata": {},
   "outputs": [
    {
     "name": "stdout",
     "output_type": "stream",
     "text": [
      "Epoch 1/20\n",
      "826/826 [==============================] - 249s 301ms/step - loss: 3.8379 - accuracy: 0.1945 - val_loss: 12.5064 - val_accuracy: 0.1154\n",
      "Epoch 2/20\n",
      "826/826 [==============================] - 245s 297ms/step - loss: 3.8327 - accuracy: 0.1942 - val_loss: 12.4089 - val_accuracy: 0.1197\n",
      "Epoch 3/20\n",
      "826/826 [==============================] - 245s 297ms/step - loss: 3.8311 - accuracy: 0.1946 - val_loss: 12.4226 - val_accuracy: 0.1172\n",
      "Epoch 4/20\n",
      "826/826 [==============================] - 244s 295ms/step - loss: 3.8252 - accuracy: 0.1941 - val_loss: 12.1779 - val_accuracy: 0.1217\n",
      "Epoch 5/20\n",
      "826/826 [==============================] - 253s 306ms/step - loss: 3.8226 - accuracy: 0.1957 - val_loss: 12.4742 - val_accuracy: 0.1192\n",
      "Epoch 6/20\n",
      "826/826 [==============================] - 254s 307ms/step - loss: 3.8191 - accuracy: 0.1954 - val_loss: 12.1015 - val_accuracy: 0.1168\n",
      "Epoch 7/20\n",
      "826/826 [==============================] - 251s 304ms/step - loss: 3.8148 - accuracy: 0.1946 - val_loss: 12.2734 - val_accuracy: 0.1280\n",
      "Epoch 8/20\n",
      "826/826 [==============================] - 247s 299ms/step - loss: 3.8116 - accuracy: 0.1956 - val_loss: 12.3673 - val_accuracy: 0.1129\n",
      "Epoch 9/20\n",
      "826/826 [==============================] - 315s 381ms/step - loss: 3.8089 - accuracy: 0.1960 - val_loss: 12.2877 - val_accuracy: 0.1222\n",
      "Epoch 10/20\n",
      "826/826 [==============================] - 301s 365ms/step - loss: 3.8056 - accuracy: 0.1954 - val_loss: 12.2083 - val_accuracy: 0.1167\n",
      "Epoch 11/20\n",
      "826/826 [==============================] - 294s 356ms/step - loss: 3.8031 - accuracy: 0.1951 - val_loss: 12.3968 - val_accuracy: 0.1203\n",
      "Epoch 12/20\n",
      "826/826 [==============================] - 296s 358ms/step - loss: 3.7985 - accuracy: 0.1957 - val_loss: 12.1578 - val_accuracy: 0.1158\n",
      "Epoch 13/20\n",
      "826/826 [==============================] - 300s 364ms/step - loss: 3.7964 - accuracy: 0.1954 - val_loss: 12.2891 - val_accuracy: 0.1213\n",
      "Epoch 14/20\n",
      "826/826 [==============================] - 259s 314ms/step - loss: 3.7937 - accuracy: 0.1960 - val_loss: 11.9364 - val_accuracy: 0.1195\n",
      "Epoch 15/20\n",
      "826/826 [==============================] - 246s 298ms/step - loss: 3.7903 - accuracy: 0.1949 - val_loss: 12.2475 - val_accuracy: 0.1199\n",
      "Epoch 16/20\n",
      "826/826 [==============================] - 261s 316ms/step - loss: 3.7881 - accuracy: 0.1959 - val_loss: 12.3535 - val_accuracy: 0.1195\n",
      "Epoch 17/20\n",
      "826/826 [==============================] - 271s 328ms/step - loss: 3.7847 - accuracy: 0.1953 - val_loss: 12.5540 - val_accuracy: 0.1185\n",
      "Epoch 18/20\n",
      "826/826 [==============================] - 246s 297ms/step - loss: 3.7822 - accuracy: 0.1962 - val_loss: 12.3407 - val_accuracy: 0.1204\n",
      "Epoch 19/20\n",
      "826/826 [==============================] - 242s 292ms/step - loss: 3.7797 - accuracy: 0.1957 - val_loss: 12.4595 - val_accuracy: 0.1165\n",
      "Epoch 20/20\n",
      "826/826 [==============================] - 243s 294ms/step - loss: 3.7783 - accuracy: 0.1957 - val_loss: 12.3841 - val_accuracy: 0.1177\n"
     ]
    }
   ],
   "source": [
    "history = model.fit(x,y,validation_split=0.05, batch_size=128,epochs=20, shuffle=True).history"
   ]
  },
  {
   "cell_type": "markdown",
   "metadata": {},
   "source": [
    "### Evaluation of the predicted model"
   ]
  },
  {
   "cell_type": "code",
   "execution_count": 14,
   "metadata": {},
   "outputs": [
    {
     "data": {
      "text/plain": [
       "<matplotlib.legend.Legend at 0x1dc28101b20>"
      ]
     },
     "execution_count": 14,
     "metadata": {},
     "output_type": "execute_result"
    },
    {
     "data": {
      "image/png": "[encoded data removed]",
      "text/plain": [
       "<Figure size 432x288 with 1 Axes>"
      ]
     },
     "metadata": {
      "needs_background": "light"
     },
     "output_type": "display_data"
    }
   ],
   "source": [
    "plt.plot(history['accuracy'])\n",
    "plt.plot(history['val_accuracy'])\n",
    "plt.title('model accuracy')\n",
    "plt.ylabel('accuracy')\n",
    "plt.xlabel('epoch')\n",
    "plt.legend(['train', 'test'], loc='upper left')"
   ]
  },
  {
   "cell_type": "code",
   "execution_count": 15,
   "metadata": {},
   "outputs": [
    {
     "data": {
      "text/plain": [
       "<matplotlib.legend.Legend at 0x1dc281d5d60>"
      ]
     },
     "execution_count": 15,
     "metadata": {},
     "output_type": "execute_result"
    },
    {
     "data": {
      "image/png": "[encoded data removed]",
      "text/plain": [
       "<Figure size 432x288 with 1 Axes>"
      ]
     },
     "metadata": {
      "needs_background": "light"
     },
     "output_type": "display_data"
    }
   ],
   "source": [
    "plt.plot(history['loss'])\n",
    "plt.plot(history['val_loss'])\n",
    "plt.title('model loss')\n",
    "plt.ylabel('loss')\n",
    "plt.xlabel('epoch')\n",
    "plt.legend(['train', 'test'], loc='upper left')"
   ]
  },
  {
   "cell_type": "markdown",
   "metadata": {},
   "source": [
    "### Testing the model"
   ]
  },
  {
   "cell_type": "code",
   "execution_count": 19,
   "metadata": {},
   "outputs": [
    {
     "name": "stdout",
     "output_type": "stream",
     "text": [
      "night his -> key\n",
      "manner was -> and\n",
      "on Thursday -> his\n"
     ]
    }
   ],
   "source": [
    "test = ['night his','manner was','on Thursday']\n",
    "\n",
    "for t in test:\n",
    "    example = tokenizer.texts_to_sequences([t])\n",
    "    prediction = model.predict(np.array(example))\n",
    "    predicted_word = np.argmax(prediction)\n",
    "    reverse_word_map = dict(map(reversed, tokenizer.word_index.items()))\n",
    "    print (\"{0} -> {1}\".format(t, reverse_word_map[predicted_word]))"
   ]
  }
 ],
 "metadata": {
  "kernelspec": {
   "display_name": "Python 3 (ipykernel)",
   "language": "python",
   "name": "python3"
  },
  "language_info": {
   "codemirror_mode": {
    "name": "ipython",
    "version": 3
   },
   "file_extension": ".py",
   "mimetype": "text/x-python",
   "name": "python",
   "nbconvert_exporter": "python",
   "pygments_lexer": "ipython3",
   "version": "3.8.12"
  }
 },
 "nbformat": 4,
 "nbformat_minor": 4
}
